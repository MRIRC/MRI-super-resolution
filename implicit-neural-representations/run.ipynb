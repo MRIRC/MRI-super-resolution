{
 "cells": [
  {
   "cell_type": "code",
   "execution_count": null,
   "id": "af4e9168",
   "metadata": {
    "scrolled": true
   },
   "outputs": [],
   "source": [
    "! set CUDA_VISIBLE_DEVICES=1 & python -u run_visual.py"
   ]
  },
  {
   "cell_type": "code",
   "execution_count": null,
   "id": "333ac5cf",
   "metadata": {},
   "outputs": [],
   "source": [
    "! set CUDA_VISIBLE_DEVICES=1 & python -u run_quantitative.py"
   ]
  },
  {
   "cell_type": "code",
   "execution_count": null,
   "id": "db6b3d2d",
   "metadata": {},
   "outputs": [],
   "source": [
    "\n"
   ]
  }
 ],
 "metadata": {
  "kernelspec": {
   "display_name": "Python 3",
   "language": "python",
   "name": "python3"
  },
  "language_info": {
   "codemirror_mode": {
    "name": "ipython",
    "version": 3
   },
   "file_extension": ".py",
   "mimetype": "text/x-python",
   "name": "python",
   "nbconvert_exporter": "python",
   "pygments_lexer": "ipython3",
   "version": "3.8.10"
  }
 },
 "nbformat": 4,
 "nbformat_minor": 5
}
