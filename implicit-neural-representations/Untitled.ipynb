{
 "cells": [
  {
   "cell_type": "code",
   "execution_count": null,
   "id": "c25658e6",
   "metadata": {},
   "outputs": [],
   "source": [
    "%matplotlib inline\n",
    "from nn_mri import ImageFitting_set, Siren, get_mgrid, cases, calculate_contrast, save_dicom\n",
    "import numpy as np\n",
    "import torch\n",
    "from PIL import Image\n",
    "from torch.utils.data import DataLoader\n",
    "import matplotlib.pyplot as plt\n",
    "import cv2\n",
    "from tqdm import tqdm\n",
    "from skimage.color import rgb2gray, gray2rgb\n",
    "\n",
    "from skimage import data, img_as_float\n",
    "from skimage.restoration import denoise_nl_means, estimate_sigma\n",
    "from skimage.metrics import peak_signal_noise_ratio\n",
    "from skimage.util import random_noise\n",
    "from skimage.transform import rescale, resize, downscale_local_mean\n",
    "import os\n",
    "import SimpleITK as sitk\n",
    "\n",
    "\n",
    "\n",
    "\n",
    "total_steps = 3000\n",
    "gland_start = 0\n",
    "focus_size = 128\n",
    "show_cancer = False\n",
    "weighted = False\n",
    "display = False\n",
    "do_detection = False\n",
    "sigma_est = 2\n",
    "scale = 1\n",
    "patch_kw = dict(patch_size=3,      # 5x5 patches\n",
    "                patch_distance=3)\n",
    "metrics = ['C', 'CNR']\n",
    "filename = '../experiments/f.csv'\n",
    "with open(filename, 'w') as f:\n",
    "    f.write('seed,patient,direction,epoch,image,metric,performance\\n')\n",
    "\n",
    "\n"
   ]
  },
  {
   "cell_type": "code",
   "execution_count": null,
   "id": "2d3d480c",
   "metadata": {},
   "outputs": [],
   "source": [
    "#!pip install scikit-learn\n",
    "!pip install dipy"
   ]
  },
  {
   "cell_type": "code",
   "execution_count": null,
   "id": "dd9090f8",
   "metadata": {
    "scrolled": true
   },
   "outputs": [],
   "source": [
    "from nn_mri import cases, calculate_contrast, save_dicom\n",
    "from sklearn.cluster import AgglomerativeClustering\n",
    "import matplotlib.pyplot as plt\n",
    "from skimage.restoration import denoise_nl_means\n",
    "from dipy.denoise.nlmeans import nlmeans\n",
    "from dipy.denoise.noise_estimate import estimate_sigma\n",
    "import numpy as np\n",
    "patch_kw = dict(patch_size=5, patch_distance=3)\n",
    "\n",
    "accept = np.ones((3,4), dtype=bool)\n",
    "for case in cases:\n",
    "    \n",
    "    sigma_est =  estimate_sigma(case.dwi, N=8)\n",
    "    \n",
    "    _slice = case.cancer_slice\n",
    "    orig = case.dwi[:, :, _slice, :].mean(-1)\n",
    "\n",
    "    new = orig.copy()\n",
    "#     for i in range(case.dwi.shape[3]):\n",
    "#         img = case.dwi[:, :, _slice, i]\n",
    "#         print(case.pt_id, calculate_contrast(case, 1, img, 0))\n",
    "    print('orig ',case.pt_id, calculate_contrast(case, 1, orig, 0))\n",
    "\n",
    "    img = case.dwi[:, :, _slice, :]\n",
    "    for i in range(2,127):\n",
    "        for j in range(2,127):\n",
    "            acq = img[i,j,:].reshape(-1,1)\n",
    "            db = AgglomerativeClustering(n_clusters=2, affinity='euclidean', linkage='single').fit(acq)\n",
    "            sample_means = [acq[db.labels_== x].mean() for x in set(db.labels_)]\n",
    "            sample_lens = [len(acq[db.labels_== x]) for x in set(db.labels_)]\n",
    "            for k in range(2):\n",
    "                if sample_means[k] > sample_means[1-k] and sample_lens[k] > (1/3)*case.dwi.shape[3]:\n",
    "                    case.accept[i, j, _slice, :] = (db.labels_== k)\n",
    "                    #case.change_accept(i, j, _slice, (db.labels_== k))\n",
    "            #print(img.shape)\n",
    "            #for i in range(orig)\n",
    "    print('clus', case.pt_id, calculate_contrast(case, 1, new, 0))\n",
    "    plt.figure()\n",
    "    plt.imshow(orig, cmap='gray')\n",
    "    plt.figure()\n",
    "    plt.imshow(new, cmap='gray')\n"
   ]
  },
  {
   "cell_type": "code",
   "execution_count": null,
   "id": "c3eb5715",
   "metadata": {},
   "outputs": [],
   "source": [
    "den = nlmeans(case.dwi, sigma=sigma_est, patch_radius=1, block_radius=2, rician=True)\n",
    "filtered = den[:, :, _slice, :].mean(-1)\n",
    "print('clus', case.pt_id, calculate_contrast(case, 1, new, 0))\n",
    "\n",
    "plt.figure()\n",
    "plt.imshow(orig[40:90, 40:90], cmap='gray')\n",
    "plt.figure()\n",
    "plt.imshow(new[40:90, 40:90], cmap='gray')\n",
    "plt.figure()\n",
    "plt.imshow(filtered[40:90, 40:90], cmap='gray')"
   ]
  },
  {
   "cell_type": "code",
   "execution_count": null,
   "id": "b1600cbe",
   "metadata": {},
   "outputs": [],
   "source": []
  }
 ],
 "metadata": {
  "kernelspec": {
   "display_name": "Python 3",
   "language": "python",
   "name": "python3"
  },
  "language_info": {
   "codemirror_mode": {
    "name": "ipython",
    "version": 3
   },
   "file_extension": ".py",
   "mimetype": "text/x-python",
   "name": "python",
   "nbconvert_exporter": "python",
   "pygments_lexer": "ipython3",
   "version": "3.8.10"
  }
 },
 "nbformat": 4,
 "nbformat_minor": 5
}
